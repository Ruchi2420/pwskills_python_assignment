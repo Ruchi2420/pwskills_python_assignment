{
 "cells": [
  {
   "cell_type": "markdown",
   "id": "661547a4-9c47-4311-9cb1-3e6eaef9bd70",
   "metadata": {},
   "source": [
    "## Q1, Create a vehicle class with an init method having instance variables as name_of_vehicle, max_speed and average_of_vehicle."
   ]
  },
  {
   "cell_type": "code",
   "execution_count": 23,
   "id": "eb1ab37c-9a62-4bef-9c5c-90121f2707de",
   "metadata": {},
   "outputs": [],
   "source": [
    "class vehicle:\n",
    "    def __init__(self, name_of_vehicle, max_speed , average_of_vehicle ):\n",
    "        self.name_of_vehicle = name_of_vehicle\n",
    "        self.max_speed = max_speed \n",
    "        self.average_of_vehicle = average_of_vehicle\n",
    "   "
   ]
  },
  {
   "cell_type": "markdown",
   "id": "748f41a6-19b8-4c7a-bc4f-90d229beb4fa",
   "metadata": {},
   "source": [
    "## Q2. Create a child class car from the vehicle class created in Que 1, which will inherit the vehicle class.Create a method named seating_capacity which takes capacity as an argument and returns the name of the vehicle and its seating capacity."
   ]
  },
  {
   "cell_type": "code",
   "execution_count": 24,
   "id": "ba56afac-2d99-4eda-8688-e99d22cff134",
   "metadata": {},
   "outputs": [],
   "source": [
    "class car(vehicle):\n",
    "     def seating_capacity(self , capacity):\n",
    "        self.capacity  = capacity\n",
    "        return f\"The seating capacity of a {self.name_of_vehicle} is {capacity} passengers\""
   ]
  },
  {
   "cell_type": "code",
   "execution_count": 25,
   "id": "d83d46aa-5924-4775-bc64-147afb9a6993",
   "metadata": {},
   "outputs": [],
   "source": [
    "obj_car = car(\"kiya\", 200 , 100)"
   ]
  },
  {
   "cell_type": "code",
   "execution_count": 16,
   "id": "70ea6555-996b-46c5-8371-081afef7bd34",
   "metadata": {},
   "outputs": [
    {
     "data": {
      "text/plain": [
       "'kiya'"
      ]
     },
     "execution_count": 16,
     "metadata": {},
     "output_type": "execute_result"
    }
   ],
   "source": [
    "obj_car.name_of_vehicle"
   ]
  },
  {
   "cell_type": "code",
   "execution_count": 21,
   "id": "f1da1dff-4405-489e-9ada-66e30ae7a258",
   "metadata": {},
   "outputs": [
    {
     "data": {
      "text/plain": [
       "200"
      ]
     },
     "execution_count": 21,
     "metadata": {},
     "output_type": "execute_result"
    }
   ],
   "source": [
    "obj_car.max_speed"
   ]
  },
  {
   "cell_type": "markdown",
   "id": "32669d2b-08e7-4b1e-9c46-75ce32000a65",
   "metadata": {},
   "source": [
    "### Q3. What is multiple inheritance? Write a python code to demonstrate multiple inheritance. "
   ]
  },
  {
   "cell_type": "markdown",
   "id": "b843ed02-a0a0-4718-8048-2c96031dd635",
   "metadata": {},
   "source": [
    "### Multiple inheritance means that a subclass can inherit from two or more superclasses."
   ]
  },
  {
   "cell_type": "code",
   "execution_count": 39,
   "id": "10eead68-96ad-4180-93ce-57776c3d3024",
   "metadata": {},
   "outputs": [],
   "source": [
    "class student1:\n",
    "    def marks_student1():\n",
    "        print(\"This is student_1_marks\")"
   ]
  },
  {
   "cell_type": "code",
   "execution_count": 40,
   "id": "4fa662aa-e891-41a0-9eb0-492df1cc747a",
   "metadata": {},
   "outputs": [],
   "source": [
    "class student2:\n",
    "    def marks_student2():\n",
    "        print(\"This is student_2_marks\")"
   ]
  },
  {
   "cell_type": "code",
   "execution_count": 41,
   "id": "824a63b4-d94a-427d-97ff-ae458b0417ed",
   "metadata": {},
   "outputs": [],
   "source": [
    "class student3(student1,student2):\n",
    "    pass"
   ]
  },
  {
   "cell_type": "code",
   "execution_count": 42,
   "id": "cd82fa5a-cd33-4b6e-b4c3-d9a5262c60a5",
   "metadata": {},
   "outputs": [],
   "source": [
    "obj_student3 = student3"
   ]
  },
  {
   "cell_type": "code",
   "execution_count": 43,
   "id": "f4f29e92-c5f2-47ab-a4b9-bf030161d53c",
   "metadata": {},
   "outputs": [
    {
     "name": "stdout",
     "output_type": "stream",
     "text": [
      "This is student_1_marks\n"
     ]
    }
   ],
   "source": [
    "obj_student3.marks_student1()"
   ]
  },
  {
   "cell_type": "code",
   "execution_count": 44,
   "id": "4c261d0b-76cc-4390-9438-6a7c06aca23a",
   "metadata": {},
   "outputs": [
    {
     "name": "stdout",
     "output_type": "stream",
     "text": [
      "This is student_2_marks\n"
     ]
    }
   ],
   "source": [
    "obj_student3.marks_student2()"
   ]
  },
  {
   "cell_type": "markdown",
   "id": "f94284b1-b7cf-4249-8019-3027e11c898b",
   "metadata": {},
   "source": [
    "## Q4. What are getter and setter in python? Create a class and create a getter and a setter method in this class."
   ]
  },
  {
   "cell_type": "markdown",
   "id": "e307cec4-a57a-4473-a91b-2d6d6ea7d25e",
   "metadata": {},
   "source": [
    "### Getter: A method that allows you to access an attribute in a given class\n",
    "### Setter: A method that allows you to set or mutate the value of an attribute in a class"
   ]
  },
  {
   "cell_type": "code",
   "execution_count": 1,
   "id": "b684dcd8-3d45-4bc0-bad6-81dfdd0cbaec",
   "metadata": {},
   "outputs": [],
   "source": [
    "class tax:\n",
    "    def __init__(self , tax_pay , duration):\n",
    "        self.__tax_pay = tax_pay\n",
    "        self.__duration = duration\n",
    "    \n",
    "    def set_tax(self , tax_pay):\n",
    "        self.__tax_pay = 0 if tax_pay < 0 else tax_pay\n",
    "        \n",
    "    def get_tax(self):\n",
    "        return self.__tax_pay\n",
    "        "
   ]
  },
  {
   "cell_type": "code",
   "execution_count": 3,
   "id": "abf8d45c-0313-42d8-a4b7-58c784e29a25",
   "metadata": {},
   "outputs": [],
   "source": [
    "obj_tax = tax(200 , \"2 years\")"
   ]
  },
  {
   "cell_type": "code",
   "execution_count": 6,
   "id": "d7a50b74-cef7-4302-9e02-96bd351a9311",
   "metadata": {},
   "outputs": [],
   "source": [
    "obj_tax.set_tax(1000)"
   ]
  },
  {
   "cell_type": "code",
   "execution_count": 7,
   "id": "22c23daf-e99f-43d5-a502-f4b633b6e468",
   "metadata": {},
   "outputs": [
    {
     "data": {
      "text/plain": [
       "1000"
      ]
     },
     "execution_count": 7,
     "metadata": {},
     "output_type": "execute_result"
    }
   ],
   "source": [
    "obj_tax.get_tax()"
   ]
  },
  {
   "cell_type": "markdown",
   "id": "a7cf951c-b8a6-429a-a12f-0c1927bf79b2",
   "metadata": {},
   "source": [
    "## Q5.What is method overriding in python? Write a python code to demonstrate method overriding."
   ]
  },
  {
   "cell_type": "markdown",
   "id": "b0ecf252-578f-499a-9953-ecb551556dcb",
   "metadata": {},
   "source": [
    "### Method overriding is a concept of object oriented programming that allows us to change the implementation of a function in the child class that is defined in the parent class. It is the ability of a child class to change the implementation of any method which is already provided by one of its parent class(ancestors)."
   ]
  },
  {
   "cell_type": "code",
   "execution_count": 8,
   "id": "751aee74-6057-4f52-a1b8-9b1e1d0160a7",
   "metadata": {},
   "outputs": [],
   "source": [
    "class Animal:\n",
    "    #proprties\n",
    "    multicellular = True\n",
    "    eukaryotic = True\n",
    "    \n",
    "    def breathe(self):\n",
    "        print(\"I breathe oxygen. \")\n",
    "        \n",
    "    def feed(self):\n",
    "        print(\"I eat food. \")"
   ]
  },
  {
   "cell_type": "code",
   "execution_count": 9,
   "id": "8419fe65-2829-43a5-a9a7-85f64918e4aa",
   "metadata": {},
   "outputs": [],
   "source": [
    "class Herbivorous(Animal):\n",
    "    def feed(self):\n",
    "        print(\"I eat only plants. I am a vegetarian.\")"
   ]
  },
  {
   "cell_type": "code",
   "execution_count": 10,
   "id": "ccfe156b-a830-4ad0-852e-e26441e91b47",
   "metadata": {},
   "outputs": [
    {
     "name": "stdout",
     "output_type": "stream",
     "text": [
      "I eat only plants. I am a vegetarian.\n",
      "I breathe oxygen. \n"
     ]
    }
   ],
   "source": [
    "herbi = Herbivorous()\n",
    "herbi.feed()\n",
    "herbi.breathe()"
   ]
  },
  {
   "cell_type": "code",
   "execution_count": 11,
   "id": "a3770de9-b469-40a1-8ec9-c2e035f59295",
   "metadata": {},
   "outputs": [],
   "source": [
    "class shape:\n",
    "    def __init__(self , x , y):\n",
    "        self.x = x\n",
    "        self.y = y\n",
    "    def area(self):\n",
    "        return self.x * self.y"
   ]
  },
  {
   "cell_type": "code",
   "execution_count": 12,
   "id": "c250a6a1-e77e-42da-9417-a2a3f9da359e",
   "metadata": {},
   "outputs": [],
   "source": [
    "rec = shape(3, 5)"
   ]
  },
  {
   "cell_type": "code",
   "execution_count": 13,
   "id": "a42a5d05-de2f-4697-a3bb-741567a5ad1f",
   "metadata": {},
   "outputs": [
    {
     "name": "stdout",
     "output_type": "stream",
     "text": [
      "15\n"
     ]
    }
   ],
   "source": [
    "print(rec.area())"
   ]
  },
  {
   "cell_type": "code",
   "execution_count": 18,
   "id": "cdc6f486-b423-48c1-8642-8f90b0041206",
   "metadata": {},
   "outputs": [],
   "source": [
    "class circle(shape):\n",
    "    def __init__(self, radius):\n",
    "        self.radius = radius\n",
    "        super().__init__(radius, radius)\n",
    "    def area(self):\n",
    "        return 3.14 * super().area()"
   ]
  },
  {
   "cell_type": "code",
   "execution_count": 19,
   "id": "cf7ac3b2-c281-4be4-baca-1728c658f7d1",
   "metadata": {},
   "outputs": [],
   "source": [
    "c = circle(5)"
   ]
  },
  {
   "cell_type": "code",
   "execution_count": 20,
   "id": "25266cb8-0d4e-4698-94e2-0e262fff854e",
   "metadata": {},
   "outputs": [
    {
     "name": "stdout",
     "output_type": "stream",
     "text": [
      "78.5\n"
     ]
    }
   ],
   "source": [
    "print(c.area())"
   ]
  },
  {
   "cell_type": "code",
   "execution_count": null,
   "id": "48bbd0fa-697c-41ec-a236-dad9a569082d",
   "metadata": {},
   "outputs": [],
   "source": []
  }
 ],
 "metadata": {
  "kernelspec": {
   "display_name": "Python 3 (ipykernel)",
   "language": "python",
   "name": "python3"
  },
  "language_info": {
   "codemirror_mode": {
    "name": "ipython",
    "version": 3
   },
   "file_extension": ".py",
   "mimetype": "text/x-python",
   "name": "python",
   "nbconvert_exporter": "python",
   "pygments_lexer": "ipython3",
   "version": "3.10.8"
  }
 },
 "nbformat": 4,
 "nbformat_minor": 5
}
